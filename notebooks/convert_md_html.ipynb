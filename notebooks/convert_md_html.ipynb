{
 "cells": [
  {
   "cell_type": "code",
   "execution_count": 1,
   "metadata": {},
   "outputs": [],
   "source": [
    "import markdown\n",
    "import re\n",
    "\n",
    "def convert_md_to_html(markdown_pth, html_pth ):\n",
    "        with open(markdown_pth, 'r', encoding='utf-8') as file:\n",
    "            md_content = file.read()\n",
    "\n",
    "        # Preprocess the markdown to wrap images and their titles in a container\n",
    "        md_content = re.sub(\n",
    "            r'^##### (.*?)\\n\\n!\\[\\1\\]\\((.*?)\\)$',  # Match the description header followed by the image syntax\n",
    "            r'<div class=\"img-container\"><span class=\"img-title\">\\1</span><img src=\"\\2\" alt=\"\\1\"></div>',\n",
    "            md_content,\n",
    "            flags=re.MULTILINE  # This allows ^ and $ to match the start and end of each line\n",
    "        )\n",
    "\n",
    "        html_content = markdown.markdown(md_content)\n",
    "\n",
    "        # Add CSS styles for images, their titles, and text\n",
    "        styles = \"\"\"\n",
    "        <style>\n",
    "            img {\n",
    "                max-width: 90%;\n",
    "                display: block;\n",
    "            }\n",
    "            .img-container {\n",
    "                display: flex;\n",
    "                align-items: center;\n",
    "                margin: 10px 0;\n",
    "            }\n",
    "            .img-title {\n",
    "                font-size: 1em;\n",
    "                margin-right: 10px;\n",
    "                width: 150px;  /* Fixed width for the title. Adjust as needed. */\n",
    "                overflow: hidden;\n",
    "                white-space: normal;  /* Allow line breaks */\n",
    "            }\n",
    "            body {\n",
    "                font-size: 1.5em;\n",
    "                font-family: Arial, sans-serif;\n",
    "            }\n",
    "        </style>\n",
    "        \"\"\"\n",
    "\n",
    "        full_html = f\"<!DOCTYPE html>\\n<html>\\n<head>{styles}</head>\\n<body>{html_content}</body>\\n</html>\"\n",
    "\n",
    "        with open(html_pth, 'w', encoding='utf-8') as file:\n",
    "            file.write(full_html)\n"
   ]
  },
  {
   "cell_type": "code",
   "execution_count": 3,
   "metadata": {},
   "outputs": [],
   "source": [
    "markdown_pth = '/home/mathilde/Documents/RDS/MELD_FE/DATA/MELD_H108/MELD_BIDS_QC/qc_images/image_gallery_all.md'\n",
    "html_pth = '/home/mathilde/Documents/RDS/MELD_FE/DATA/MELD_H108/MELD_BIDS_QC/qc_images/image_gallery_all.html'\n",
    "convert_md_to_html(markdown_pth, html_pth )"
   ]
  }
 ],
 "metadata": {
  "kernelspec": {
   "display_name": "Python 3.10.10 ('meld_fe')",
   "language": "python",
   "name": "python3"
  },
  "language_info": {
   "codemirror_mode": {
    "name": "ipython",
    "version": 3
   },
   "file_extension": ".py",
   "mimetype": "text/x-python",
   "name": "python",
   "nbconvert_exporter": "python",
   "pygments_lexer": "ipython3",
   "version": "3.10.10"
  },
  "orig_nbformat": 4,
  "vscode": {
   "interpreter": {
    "hash": "debb065935351fe3af3171a9db7f9365e81fb40fc4f0b331152112e12aa8d5ec"
   }
  }
 },
 "nbformat": 4,
 "nbformat_minor": 2
}
