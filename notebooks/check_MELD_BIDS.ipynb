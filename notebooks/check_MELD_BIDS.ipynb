{
 "cells": [
  {
   "cell_type": "markdown",
   "id": "ed41c743",
   "metadata": {},
   "source": [
    "# Notebook to check MELD_BIDS folder\n"
   ]
  },
  {
   "cell_type": "code",
   "execution_count": 1,
   "id": "98e2a679",
   "metadata": {},
   "outputs": [],
   "source": [
    "import os\n",
    "import glob\n",
    "import pandas as pd\n",
    "import numpy as np\n",
    "import json\n",
    "import shutil"
   ]
  },
  {
   "cell_type": "code",
   "execution_count": 79,
   "id": "c451236c",
   "metadata": {},
   "outputs": [],
   "source": [
    "# initialise \n",
    "\n",
    "site_code = 'H102'\n",
    "site_folder = f'/home/mathilde/Documents/RDS/MELD_FE/DATA/MELD_{site_code}'\n"
   ]
  },
  {
   "cell_type": "markdown",
   "id": "9c1a06ba",
   "metadata": {},
   "source": [
    "### 1. Check folder MELD_BIDS"
   ]
  },
  {
   "cell_type": "code",
   "execution_count": 80,
   "id": "65d7aa4e",
   "metadata": {},
   "outputs": [],
   "source": [
    "def harmonise_meld_name(name):\n",
    "    split = name.split('_')  \n",
    "    # exclude specific characters\n",
    "    harmo_name= ''.join(split)\n",
    "    \n",
    "    return harmo_name\n"
   ]
  },
  {
   "cell_type": "code",
   "execution_count": 81,
   "id": "9525d5a6",
   "metadata": {},
   "outputs": [
    {
     "data": {
      "text/plain": [
       "40"
      ]
     },
     "execution_count": 81,
     "metadata": {},
     "output_type": "execute_result"
    }
   ],
   "source": [
    "demographic_file = os.path.join(site_folder,f'MELD_participants_infos_{site_code}.csv')\n",
    "subjects = pd.read_csv(demographic_file)['id']  \n",
    "# subjects = glob.glob(os.path.join(BIDS_path, '*'))\n",
    "len(subjects) "
   ]
  },
  {
   "cell_type": "code",
   "execution_count": 86,
   "id": "253f9a4e",
   "metadata": {},
   "outputs": [],
   "source": [
    "BIDS_path= os.path.join(site_folder, 'MELD_BIDS')\n",
    "\n",
    "df=pd.DataFrame()\n",
    "\n",
    "values={}\n",
    "for subject in subjects :\n",
    "    subject_bids = 'sub-'+harmonise_meld_name(subject)\n",
    "    values['ID']=subject\n",
    "    for mod in ['preop_T1w', 'postop_T1w','preop_T2w','preop_FLAIR','preop_DWI', 'lesion_MASK']:\n",
    "        niis =  glob.glob(os.path.join(BIDS_path, subject_bids, f'*/*{mod}*.nii*'))\n",
    "        jsons =  glob.glob(os.path.join(BIDS_path, subject_bids, f'*/*{mod}*.json'))\n",
    "        \n",
    "        values[f'{mod}_nii'] = len(niis)\n",
    "        values[f'{mod}_json'] = len(jsons)\n",
    "\n",
    "    df=pd.concat([df,pd.DataFrame([values])])"
   ]
  },
  {
   "cell_type": "code",
   "execution_count": 87,
   "id": "e1a23bb8",
   "metadata": {},
   "outputs": [
    {
     "data": {
      "text/plain": [
       "ID                  MELD_H102_P_0001MELD_H102_P_0002MELD_H102_P_00...\n",
       "preop_T1w_nii                                                      40\n",
       "preop_T1w_json                                                     40\n",
       "postop_T1w_nii                                                     37\n",
       "postop_T1w_json                                                    37\n",
       "preop_T2w_nii                                                      34\n",
       "preop_T2w_json                                                     34\n",
       "preop_FLAIR_nii                                                    40\n",
       "preop_FLAIR_json                                                   40\n",
       "preop_DWI_nii                                                       0\n",
       "preop_DWI_json                                                      0\n",
       "lesion_MASK_nii                                                    32\n",
       "lesion_MASK_json                                                   32\n",
       "dtype: object"
      ]
     },
     "execution_count": 87,
     "metadata": {},
     "output_type": "execute_result"
    }
   ],
   "source": [
    "# overview of the MRI data available\n",
    "df.sum()"
   ]
  },
  {
   "cell_type": "code",
   "execution_count": 67,
   "id": "ed65b5bf",
   "metadata": {},
   "outputs": [
    {
     "data": {
      "text/html": [
       "<div>\n",
       "<style scoped>\n",
       "    .dataframe tbody tr th:only-of-type {\n",
       "        vertical-align: middle;\n",
       "    }\n",
       "\n",
       "    .dataframe tbody tr th {\n",
       "        vertical-align: top;\n",
       "    }\n",
       "\n",
       "    .dataframe thead th {\n",
       "        text-align: right;\n",
       "    }\n",
       "</style>\n",
       "<table border=\"1\" class=\"dataframe\">\n",
       "  <thead>\n",
       "    <tr style=\"text-align: right;\">\n",
       "      <th></th>\n",
       "      <th>ID</th>\n",
       "      <th>preop_T1w_nii</th>\n",
       "      <th>preop_T1w_json</th>\n",
       "      <th>postop_T1w_nii</th>\n",
       "      <th>postop_T1w_json</th>\n",
       "      <th>preop_T2w_nii</th>\n",
       "      <th>preop_T2w_json</th>\n",
       "      <th>preop_FLAIR_nii</th>\n",
       "      <th>preop_FLAIR_json</th>\n",
       "      <th>preop_DWI_nii</th>\n",
       "      <th>preop_DWI_json</th>\n",
       "      <th>lesion_MASK_nii</th>\n",
       "      <th>lesion_MASK_json</th>\n",
       "    </tr>\n",
       "  </thead>\n",
       "  <tbody>\n",
       "    <tr>\n",
       "      <th>0</th>\n",
       "      <td>MELD_H14_P_0023</td>\n",
       "      <td>1</td>\n",
       "      <td>1</td>\n",
       "      <td>0</td>\n",
       "      <td>1</td>\n",
       "      <td>0</td>\n",
       "      <td>1</td>\n",
       "      <td>1</td>\n",
       "      <td>1</td>\n",
       "      <td>0</td>\n",
       "      <td>1</td>\n",
       "      <td>1</td>\n",
       "      <td>1</td>\n",
       "    </tr>\n",
       "    <tr>\n",
       "      <th>0</th>\n",
       "      <td>MELD_H14_P_0025</td>\n",
       "      <td>0</td>\n",
       "      <td>1</td>\n",
       "      <td>0</td>\n",
       "      <td>0</td>\n",
       "      <td>0</td>\n",
       "      <td>1</td>\n",
       "      <td>0</td>\n",
       "      <td>1</td>\n",
       "      <td>0</td>\n",
       "      <td>1</td>\n",
       "      <td>1</td>\n",
       "      <td>1</td>\n",
       "    </tr>\n",
       "  </tbody>\n",
       "</table>\n",
       "</div>"
      ],
      "text/plain": [
       "                ID  preop_T1w_nii  preop_T1w_json  postop_T1w_nii   \n",
       "0  MELD_H14_P_0023              1               1               0  \\\n",
       "0  MELD_H14_P_0025              0               1               0   \n",
       "\n",
       "   postop_T1w_json  preop_T2w_nii  preop_T2w_json  preop_FLAIR_nii   \n",
       "0                1              0               1                1  \\\n",
       "0                0              0               1                0   \n",
       "\n",
       "   preop_FLAIR_json  preop_DWI_nii  preop_DWI_json  lesion_MASK_nii   \n",
       "0                 1              0               1                1  \\\n",
       "0                 1              0               1                1   \n",
       "\n",
       "   lesion_MASK_json  \n",
       "0                 1  \n",
       "0                 1  "
      ]
     },
     "execution_count": 67,
     "metadata": {},
     "output_type": "execute_result"
    }
   ],
   "source": [
    "# indicate who does not have a preop t1\n",
    "df[(df.preop_DWI_nii<1) & (df.preop_DWI_json>0)]"
   ]
  },
  {
   "cell_type": "code",
   "execution_count": 68,
   "id": "e7ffa705",
   "metadata": {},
   "outputs": [],
   "source": [
    "df.loc['Column_Total'] = df.sum(numeric_only=True, axis=0)\n",
    "df.loc[:,'Row_Total'] = df.sum(numeric_only=True, axis=1)"
   ]
  },
  {
   "cell_type": "code",
   "execution_count": 69,
   "id": "418a3892",
   "metadata": {},
   "outputs": [],
   "source": [
    "#save summary \n",
    "file = os.path.join(site_folder,'summary_MRI_MELDBIDS.csv')\n",
    "df.to_csv(file)"
   ]
  }
 ],
 "metadata": {
  "kernelspec": {
   "display_name": "Python 3.7.10 ('mfe_env')",
   "language": "python",
   "name": "python3"
  },
  "language_info": {
   "codemirror_mode": {
    "name": "ipython",
    "version": 3
   },
   "file_extension": ".py",
   "mimetype": "text/x-python",
   "name": "python",
   "nbconvert_exporter": "python",
   "pygments_lexer": "ipython3",
   "version": "3.10.10"
  },
  "vscode": {
   "interpreter": {
    "hash": "83270098285cc9abebfce5f215c5698f91f493896f384ab77739866d78599217"
   }
  }
 },
 "nbformat": 4,
 "nbformat_minor": 5
}
